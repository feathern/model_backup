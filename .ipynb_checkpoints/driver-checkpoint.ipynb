{
 "cells": [
  {
   "cell_type": "code",
   "execution_count": 1,
   "id": "96e1e44c",
   "metadata": {},
   "outputs": [],
   "source": [
    "from backup import output_desc, backup, gen_dict"
   ]
  },
  {
   "cell_type": "code",
   "execution_count": 2,
   "id": "750685e4",
   "metadata": {},
   "outputs": [],
   "source": [
    "qdict = gen_dict()\n",
    "\n",
    "\n",
    "\n",
    "qdict['Shell_Slices'].count=[10,5]\n",
    "qdict['Shell_Slices'].sample='both'\n",
    "qdict['Shell_Slices'].tar = False\n",
    "\n",
    "qdict['Equatorial_Slices'].count=[10,5]\n",
    "qdict['Equatorial_Slices'].sample='both'\n",
    "qdict['Equatorial_Slices'].tar = False\n",
    "\n",
    "qdict['Meridional_Slices'].count=[10,5]\n",
    "qdict['Meridional_Slices'].sample='both'\n",
    "qdict['Meridional_Slices'].tar = False\n",
    "\n",
    "qdict['Shell_Avgs'].count = [10,50]\n",
    "qdict['Shell_Avgs'].tar=True\n",
    "qdict['Shell_Avgs'].sample='both'\n",
    "\n",
    "qdict['G_Avgs'].count=-1\n",
    "qdict['G_Avgs'].tar=True\n",
    "\n",
    "qdict['AZ_Avgs'].sample='both'\n",
    "qdict['AZ_Avgs'].count=[10,50]\n",
    "\n",
    "qdict['Shell_Spectra'].sample='both'\n",
    "qdict['Shell_Spectra'].count=[10,10]\n",
    "\n",
    "\n",
    "qdict['Checkpoints'].count=5\n",
    "qdict['Checkpoints'].sample='sparse'\n",
    "\n",
    "\n"
   ]
  },
  {
   "cell_type": "code",
   "execution_count": 3,
   "id": "fc4748cc",
   "metadata": {},
   "outputs": [],
   "source": [
    "idir = '/home/feathern/runs/output'\n",
    "odir= '/home/feathern/backup/output'"
   ]
  },
  {
   "cell_type": "code",
   "execution_count": 4,
   "id": "71e20cbc",
   "metadata": {},
   "outputs": [
    {
     "name": "stdout",
     "output_type": "stream",
     "text": [
      "Backing up from:  /home/feathern/runs/output  to:  /home/feathern/backup/output\n",
      "\n",
      "\n",
      "Backing up directory:  AZ_Avgs\n",
      "\n",
      "\n",
      "\n",
      "Backing up directory:  Benchmark_Reports\n",
      "\n",
      "\n",
      "\n",
      "Backing up directory:  Equatorial_Slices\n",
      "\n",
      "\n",
      "\n",
      "Backing up directory:  G_Avgs\n",
      "\n",
      "\n",
      "\n",
      "Backing up directory:  Meridional_Slices\n",
      "\n",
      "\n",
      "\n",
      "Backing up directory:  Point_Probes\n",
      "\n",
      "Skipping directory Point_Probes.  No files found.\n",
      "\n",
      "\n",
      "Backing up directory:  Shell_Avgs\n",
      "\n",
      "\n",
      "\n",
      "Backing up directory:  Shell_Slices\n",
      "\n",
      "\n",
      "\n",
      "Backing up directory:  Shell_Spectra\n",
      "\n",
      "\n",
      "\n",
      "Backing up directory:  SPH_Modes\n",
      "\n",
      "\n",
      "\n",
      "Backing up directory:  Timings\n",
      "\n",
      "Skipping  lmax0020_nr0032_ncol0002_nrow0002.  Unable to convert to integer.\n",
      "\n",
      "\n",
      "Backing up Checkpoints \n",
      "\n"
     ]
    }
   ],
   "source": [
    "backup(idir,odir,qdict,verbose=False, check = False)"
   ]
  },
  {
   "cell_type": "code",
   "execution_count": 5,
   "id": "609362da",
   "metadata": {},
   "outputs": [
    {
     "ename": "NameError",
     "evalue": "name 'b' is not defined",
     "output_type": "error",
     "traceback": [
      "\u001b[0;31m---------------------------------------------------------------------------\u001b[0m",
      "\u001b[0;31mNameError\u001b[0m                                 Traceback (most recent call last)",
      "\u001b[0;32m/tmp/ipykernel_50324/228568054.py\u001b[0m in \u001b[0;36m<module>\u001b[0;34m\u001b[0m\n\u001b[0;32m----> 1\u001b[0;31m \u001b[0mprint\u001b[0m\u001b[0;34m(\u001b[0m\u001b[0mtype\u001b[0m\u001b[0;34m(\u001b[0m\u001b[0mb\u001b[0m\u001b[0;34m)\u001b[0m\u001b[0;34m)\u001b[0m\u001b[0;34m\u001b[0m\u001b[0;34m\u001b[0m\u001b[0m\n\u001b[0m",
      "\u001b[0;31mNameError\u001b[0m: name 'b' is not defined"
     ]
    }
   ],
   "source": [
    "print(type(b))"
   ]
  },
  {
   "cell_type": "code",
   "execution_count": null,
   "id": "de74e3c6",
   "metadata": {},
   "outputs": [],
   "source": [
    "print(max(1,2))"
   ]
  },
  {
   "cell_type": "code",
   "execution_count": null,
   "id": "5f969aca",
   "metadata": {},
   "outputs": [],
   "source": []
  }
 ],
 "metadata": {
  "kernelspec": {
   "display_name": "Python 3 (ipykernel)",
   "language": "python",
   "name": "python3"
  },
  "language_info": {
   "codemirror_mode": {
    "name": "ipython",
    "version": 3
   },
   "file_extension": ".py",
   "mimetype": "text/x-python",
   "name": "python",
   "nbconvert_exporter": "python",
   "pygments_lexer": "ipython3",
   "version": "3.9.6"
  }
 },
 "nbformat": 4,
 "nbformat_minor": 5
}
