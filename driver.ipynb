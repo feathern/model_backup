{
 "cells": [
  {
   "cell_type": "code",
   "execution_count": null,
   "id": "750685e4",
   "metadata": {},
   "outputs": [],
   "source": [
    "from backup import output_desc, backup, gen_dict\n",
    "qdict = gen_dict()\n",
    "\n",
    "qdict['Shell_Slices'].count=[10,5]\n",
    "qdict['Shell_Slices'].sample='both'\n",
    "qdict['Shell_Slices'].tar = False\n",
    "\n",
    "qdict['Equatorial_Slices'].count=[10,5]\n",
    "qdict['Equatorial_Slices'].sample='both'\n",
    "qdict['Equatorial_Slices'].tar = False\n",
    "\n",
    "qdict['Meridional_Slices'].count=[10,5]\n",
    "qdict['Meridional_Slices'].sample='both'\n",
    "qdict['Meridional_Slices'].tar = False\n",
    "\n",
    "qdict['Shell_Avgs'].count = [10,50]\n",
    "qdict['Shell_Avgs'].tar=True\n",
    "qdict['Shell_Avgs'].sample='both'\n",
    "\n",
    "qdict['G_Avgs'].count=-1\n",
    "qdict['G_Avgs'].tar=True\n",
    "\n",
    "qdict['AZ_Avgs'].sample='both'\n",
    "qdict['AZ_Avgs'].count=[10,50]\n",
    "\n",
    "qdict['Shell_Spectra'].sample='both'\n",
    "qdict['Shell_Spectra'].count=[10,10]\n",
    "\n",
    "\n",
    "qdict['Checkpoints'].count=5\n",
    "qdict['Checkpoints'].sample='sparse'\n",
    "\n",
    "\n",
    "idir = '/home/feathern/runs/output'\n",
    "odir= '/home/feathern/backup/output'\n",
    "\n",
    "\n",
    "backup(idir,odir,qdict,verbose=False, check = False)"
   ]
  },
  {
   "cell_type": "code",
   "execution_count": null,
   "id": "609362da",
   "metadata": {},
   "outputs": [],
   "source": []
  },
  {
   "cell_type": "code",
   "execution_count": null,
   "id": "de74e3c6",
   "metadata": {},
   "outputs": [],
   "source": []
  },
  {
   "cell_type": "code",
   "execution_count": null,
   "id": "5f969aca",
   "metadata": {},
   "outputs": [],
   "source": []
  }
 ],
 "metadata": {
  "kernelspec": {
   "display_name": "Python 3 (ipykernel)",
   "language": "python",
   "name": "python3"
  },
  "language_info": {
   "codemirror_mode": {
    "name": "ipython",
    "version": 3
   },
   "file_extension": ".py",
   "mimetype": "text/x-python",
   "name": "python",
   "nbconvert_exporter": "python",
   "pygments_lexer": "ipython3",
   "version": "3.9.6"
  }
 },
 "nbformat": 4,
 "nbformat_minor": 5
}
