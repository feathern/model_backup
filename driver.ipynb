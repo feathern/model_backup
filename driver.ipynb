{
 "cells": [
  {
   "cell_type": "code",
   "execution_count": 7,
   "id": "1ae43d07",
   "metadata": {},
   "outputs": [],
   "source": [
    "from backup import output_desc, backup"
   ]
  },
  {
   "cell_type": "code",
   "execution_count": 8,
   "id": "f005e637",
   "metadata": {},
   "outputs": [],
   "source": [
    "qdict = {}\n",
    "qdict['G_Avgs']=output_desc()\n",
    "qdict['Shell_Slices']=output_desc()\n",
    "qdict['Shell_Avgs']=output_desc()\n",
    "\n",
    "qdict['G_Avgs'].count=49\n",
    "qdict['Shell_Slices'].count=13\n",
    "qdict['Shell_Slices'].sample='sparse'\n",
    "qdict['Shell_Avgs'].count = 22"
   ]
  },
  {
   "cell_type": "code",
   "execution_count": 9,
   "id": "20fbbff7",
   "metadata": {},
   "outputs": [],
   "source": [
    "idir = '/home/nfeatherstone/runs/output'\n",
    "odir=None"
   ]
  },
  {
   "cell_type": "code",
   "execution_count": 10,
   "id": "663315e5",
   "metadata": {},
   "outputs": [
    {
     "name": "stdout",
     "output_type": "stream",
     "text": [
      "G_Avgs 49\n",
      "['/home/nfeatherstone/runs/output/G_Avgs/00000040', '/home/nfeatherstone/runs/output/G_Avgs/00000060', '/home/nfeatherstone/runs/output/G_Avgs/00000080', '/home/nfeatherstone/runs/output/G_Avgs/00000100', '/home/nfeatherstone/runs/output/G_Avgs/00000120', '/home/nfeatherstone/runs/output/G_Avgs/00000140', '/home/nfeatherstone/runs/output/G_Avgs/00000160', '/home/nfeatherstone/runs/output/G_Avgs/00000180', '/home/nfeatherstone/runs/output/G_Avgs/00000200', '/home/nfeatherstone/runs/output/G_Avgs/00000220', '/home/nfeatherstone/runs/output/G_Avgs/00000240', '/home/nfeatherstone/runs/output/G_Avgs/00000260', '/home/nfeatherstone/runs/output/G_Avgs/00000280', '/home/nfeatherstone/runs/output/G_Avgs/00000300', '/home/nfeatherstone/runs/output/G_Avgs/00000320', '/home/nfeatherstone/runs/output/G_Avgs/00000340', '/home/nfeatherstone/runs/output/G_Avgs/00000360', '/home/nfeatherstone/runs/output/G_Avgs/00000380', '/home/nfeatherstone/runs/output/G_Avgs/00000400', '/home/nfeatherstone/runs/output/G_Avgs/00000420', '/home/nfeatherstone/runs/output/G_Avgs/00000440', '/home/nfeatherstone/runs/output/G_Avgs/00000460', '/home/nfeatherstone/runs/output/G_Avgs/00000480', '/home/nfeatherstone/runs/output/G_Avgs/00000500', '/home/nfeatherstone/runs/output/G_Avgs/00000520', '/home/nfeatherstone/runs/output/G_Avgs/00000540', '/home/nfeatherstone/runs/output/G_Avgs/00000560', '/home/nfeatherstone/runs/output/G_Avgs/00000580', '/home/nfeatherstone/runs/output/G_Avgs/00000600', '/home/nfeatherstone/runs/output/G_Avgs/00000620', '/home/nfeatherstone/runs/output/G_Avgs/00000640', '/home/nfeatherstone/runs/output/G_Avgs/00000660', '/home/nfeatherstone/runs/output/G_Avgs/00000680', '/home/nfeatherstone/runs/output/G_Avgs/00000700', '/home/nfeatherstone/runs/output/G_Avgs/00000720', '/home/nfeatherstone/runs/output/G_Avgs/00000740', '/home/nfeatherstone/runs/output/G_Avgs/00000760', '/home/nfeatherstone/runs/output/G_Avgs/00000780', '/home/nfeatherstone/runs/output/G_Avgs/00000800', '/home/nfeatherstone/runs/output/G_Avgs/00000820', '/home/nfeatherstone/runs/output/G_Avgs/00000840', '/home/nfeatherstone/runs/output/G_Avgs/00000860', '/home/nfeatherstone/runs/output/G_Avgs/00000880', '/home/nfeatherstone/runs/output/G_Avgs/00000900', '/home/nfeatherstone/runs/output/G_Avgs/00000920', '/home/nfeatherstone/runs/output/G_Avgs/00000940', '/home/nfeatherstone/runs/output/G_Avgs/00000960', '/home/nfeatherstone/runs/output/G_Avgs/00000980', '/home/nfeatherstone/runs/output/G_Avgs/00001000']\n",
      "\n",
      "\n",
      "\n",
      "\n",
      "Shell_Avgs 22\n",
      "['/home/nfeatherstone/runs/output/Shell_Avgs/00000690', '/home/nfeatherstone/runs/output/Shell_Avgs/00000705', '/home/nfeatherstone/runs/output/Shell_Avgs/00000720', '/home/nfeatherstone/runs/output/Shell_Avgs/00000735', '/home/nfeatherstone/runs/output/Shell_Avgs/00000750', '/home/nfeatherstone/runs/output/Shell_Avgs/00000765', '/home/nfeatherstone/runs/output/Shell_Avgs/00000780', '/home/nfeatherstone/runs/output/Shell_Avgs/00000795', '/home/nfeatherstone/runs/output/Shell_Avgs/00000810', '/home/nfeatherstone/runs/output/Shell_Avgs/00000825', '/home/nfeatherstone/runs/output/Shell_Avgs/00000840', '/home/nfeatherstone/runs/output/Shell_Avgs/00000855', '/home/nfeatherstone/runs/output/Shell_Avgs/00000870', '/home/nfeatherstone/runs/output/Shell_Avgs/00000885', '/home/nfeatherstone/runs/output/Shell_Avgs/00000900', '/home/nfeatherstone/runs/output/Shell_Avgs/00000915', '/home/nfeatherstone/runs/output/Shell_Avgs/00000930', '/home/nfeatherstone/runs/output/Shell_Avgs/00000945', '/home/nfeatherstone/runs/output/Shell_Avgs/00000960', '/home/nfeatherstone/runs/output/Shell_Avgs/00000975', '/home/nfeatherstone/runs/output/Shell_Avgs/00000990', '/home/nfeatherstone/runs/output/Shell_Avgs/00001005']\n",
      "\n",
      "\n",
      "\n",
      "\n",
      "Shell_Slices 13\n",
      "['/home/nfeatherstone/runs/output/Shell_Slices/00000003', '/home/nfeatherstone/runs/output/Shell_Slices/00000084', '/home/nfeatherstone/runs/output/Shell_Slices/00000165', '/home/nfeatherstone/runs/output/Shell_Slices/00000246', '/home/nfeatherstone/runs/output/Shell_Slices/00000327', '/home/nfeatherstone/runs/output/Shell_Slices/00000408', '/home/nfeatherstone/runs/output/Shell_Slices/00000489', '/home/nfeatherstone/runs/output/Shell_Slices/00000570', '/home/nfeatherstone/runs/output/Shell_Slices/00000651', '/home/nfeatherstone/runs/output/Shell_Slices/00000732', '/home/nfeatherstone/runs/output/Shell_Slices/00000813', '/home/nfeatherstone/runs/output/Shell_Slices/00000894', '/home/nfeatherstone/runs/output/Shell_Slices/00001002']\n",
      "\n",
      "\n",
      "\n",
      "\n"
     ]
    }
   ],
   "source": [
    "backup(idir,odir,qdict)"
   ]
  },
  {
   "cell_type": "code",
   "execution_count": null,
   "id": "51303406",
   "metadata": {},
   "outputs": [],
   "source": []
  },
  {
   "cell_type": "code",
   "execution_count": 5,
   "id": "ffa19daa",
   "metadata": {},
   "outputs": [
    {
     "name": "stdout",
     "output_type": "stream",
     "text": [
      "5\n",
      "4\n",
      "3\n",
      "2\n",
      "1\n"
     ]
    }
   ],
   "source": [
    "for i in range(5,0,-1):\n",
    "    print(i)"
   ]
  },
  {
   "cell_type": "code",
   "execution_count": 6,
   "id": "f3f77e87",
   "metadata": {},
   "outputs": [
    {
     "name": "stdout",
     "output_type": "stream",
     "text": [
      "1\n"
     ]
    }
   ],
   "source": [
    "print(i)"
   ]
  },
  {
   "cell_type": "code",
   "execution_count": null,
   "id": "5612284b",
   "metadata": {},
   "outputs": [],
   "source": []
  }
 ],
 "metadata": {
  "kernelspec": {
   "display_name": "Python 3 (ipykernel)",
   "language": "python",
   "name": "python3"
  },
  "language_info": {
   "codemirror_mode": {
    "name": "ipython",
    "version": 3
   },
   "file_extension": ".py",
   "mimetype": "text/x-python",
   "name": "python",
   "nbconvert_exporter": "python",
   "pygments_lexer": "ipython3",
   "version": "3.9.10"
  }
 },
 "nbformat": 4,
 "nbformat_minor": 5
}
