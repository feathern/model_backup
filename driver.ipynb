{
 "cells": [
  {
   "cell_type": "code",
   "execution_count": 1,
   "id": "96e1e44c",
   "metadata": {},
   "outputs": [],
   "source": [
    "from backup import output_desc, backup"
   ]
  },
  {
   "cell_type": "code",
   "execution_count": 2,
   "id": "750685e4",
   "metadata": {},
   "outputs": [],
   "source": [
    "qdict = {}\n",
    "qdict['G_Avgs']=output_desc()\n",
    "qdict['Shell_Slices']=output_desc()\n",
    "qdict['Shell_Avgs']=output_desc()\n",
    "qdict['Checkpoints']=output_desc()\n",
    "\n",
    "\n",
    "\n",
    "qdict['Shell_Slices'].count=[5,10]\n",
    "qdict['Shell_Slices'].sample='both'\n",
    "qdict['Shell_Slices'].tar = False\n",
    "qdict['Shell_Slices'].copy = True\n",
    "\n",
    "qdict['Shell_Avgs'].count = 22\n",
    "qdict['Shell_Avgs'].copy=False\n",
    "qdict['Shell_Avgs'].tar=False\n",
    "\n",
    "qdict['G_Avgs'].count=-1\n",
    "qdict['G_Avgs'].copy=False\n",
    "qdict['G_Avgs'].tar=True\n",
    "\n",
    "qdict['Checkpoints'].count=5\n",
    "qdict['Checkpoints'].sample='sparse'"
   ]
  },
  {
   "cell_type": "code",
   "execution_count": 3,
   "id": "fc4748cc",
   "metadata": {},
   "outputs": [],
   "source": [
    "idir = '/home/nfeatherstone/runs/output'\n",
    "odir= '/home/nfeatherstone/runs/backup/output'"
   ]
  },
  {
   "cell_type": "code",
   "execution_count": 4,
   "id": "71e20cbc",
   "metadata": {},
   "outputs": [
    {
     "name": "stdout",
     "output_type": "stream",
     "text": [
      "Backing up from:  /home/nfeatherstone/runs/output  to:  /home/nfeatherstone/runs/backup/output\n",
      "\n",
      "\n",
      "Backing up directory:  G_Avgs\n",
      "\n",
      "\n",
      "\n",
      "Backing up directory:  Shell_Avgs\n",
      "\n",
      "\n",
      "\n",
      "Backing up directory:  Shell_Slices\n",
      "\n",
      "\n",
      "\n",
      "Backing up Checkpoints \n",
      "\n"
     ]
    },
    {
     "name": "stderr",
     "output_type": "stream",
     "text": [
      "mkdir: cannot create directory ‘/home/nfeatherstone/runs/backup/output/Shell_Slices’: File exists\n",
      "mkdir: cannot create directory ‘/home/nfeatherstone/runs/backup/output/Checkpoints’: File exists\n"
     ]
    }
   ],
   "source": [
    "backup(idir,odir,qdict,verbose=False, check = False)"
   ]
  },
  {
   "cell_type": "code",
   "execution_count": 5,
   "id": "609362da",
   "metadata": {},
   "outputs": [
    {
     "ename": "NameError",
     "evalue": "name 'b' is not defined",
     "output_type": "error",
     "traceback": [
      "\u001b[0;31m---------------------------------------------------------------------------\u001b[0m",
      "\u001b[0;31mNameError\u001b[0m                                 Traceback (most recent call last)",
      "Input \u001b[0;32mIn [5]\u001b[0m, in \u001b[0;36m<cell line: 1>\u001b[0;34m()\u001b[0m\n\u001b[0;32m----> 1\u001b[0m \u001b[38;5;28mprint\u001b[39m(\u001b[38;5;28mtype\u001b[39m(\u001b[43mb\u001b[49m))\n",
      "\u001b[0;31mNameError\u001b[0m: name 'b' is not defined"
     ]
    }
   ],
   "source": [
    "print(type(b))"
   ]
  },
  {
   "cell_type": "code",
   "execution_count": null,
   "id": "de74e3c6",
   "metadata": {},
   "outputs": [],
   "source": [
    "print(max(1,2))"
   ]
  },
  {
   "cell_type": "code",
   "execution_count": null,
   "id": "5f969aca",
   "metadata": {},
   "outputs": [],
   "source": []
  }
 ],
 "metadata": {
  "kernelspec": {
   "display_name": "Python 3 (ipykernel)",
   "language": "python",
   "name": "python3"
  },
  "language_info": {
   "codemirror_mode": {
    "name": "ipython",
    "version": 3
   },
   "file_extension": ".py",
   "mimetype": "text/x-python",
   "name": "python",
   "nbconvert_exporter": "python",
   "pygments_lexer": "ipython3",
   "version": "3.9.10"
  }
 },
 "nbformat": 4,
 "nbformat_minor": 5
}
